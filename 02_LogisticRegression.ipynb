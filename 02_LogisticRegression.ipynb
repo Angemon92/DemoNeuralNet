{
 "cells": [
  {
   "cell_type": "markdown",
   "metadata": {},
   "source": [
    "## (Binomial) Logistic Regression"
   ]
  },
  {
   "cell_type": "code",
   "execution_count": 1,
   "metadata": {
    "collapsed": true
   },
   "outputs": [],
   "source": [
    "# Reproduce results\n",
    "set.seed(1234567)"
   ]
  },
  {
   "cell_type": "markdown",
   "metadata": {},
   "source": [
    "### Data-Set"
   ]
  },
  {
   "cell_type": "code",
   "execution_count": 2,
   "metadata": {},
   "outputs": [
    {
     "data": {
      "text/html": [
       "<table>\n",
       "<thead><tr><th></th><th scope=col>Sepal.Length</th><th scope=col>Petal.Length</th></tr></thead>\n",
       "<tbody>\n",
       "\t<tr><th scope=row>51</th><td>0.8860759</td><td>0.5949367</td></tr>\n",
       "\t<tr><th scope=row>52</th><td>0.8101266</td><td>0.5696203</td></tr>\n",
       "\t<tr><th scope=row>53</th><td>0.8734177</td><td>0.6202532</td></tr>\n",
       "\t<tr><th scope=row>54</th><td>0.6962025</td><td>0.5063291</td></tr>\n",
       "\t<tr><th scope=row>55</th><td>0.8227848</td><td>0.5822785</td></tr>\n",
       "\t<tr><th scope=row>56</th><td>0.7215190</td><td>0.5696203</td></tr>\n",
       "</tbody>\n",
       "</table>\n"
      ],
      "text/latex": [
       "\\begin{tabular}{r|ll}\n",
       "  & Sepal.Length & Petal.Length\\\\\n",
       "\\hline\n",
       "\t51 & 0.8860759 & 0.5949367\\\\\n",
       "\t52 & 0.8101266 & 0.5696203\\\\\n",
       "\t53 & 0.8734177 & 0.6202532\\\\\n",
       "\t54 & 0.6962025 & 0.5063291\\\\\n",
       "\t55 & 0.8227848 & 0.5822785\\\\\n",
       "\t56 & 0.7215190 & 0.5696203\\\\\n",
       "\\end{tabular}\n"
      ],
      "text/markdown": [
       "1. 0.886075949367089\n",
       "2. 0.810126582278481\n",
       "3. 0.873417721518987\n",
       "4. 0.69620253164557\n",
       "5. 0.822784810126582\n",
       "6. 0.721518987341772\n",
       "7. 0.594936708860759\n",
       "8. 0.569620253164557\n",
       "9. 0.620253164556962\n",
       "10. 0.506329113924051\n",
       "11. 0.582278481012658\n",
       "12. 0.569620253164557\n",
       "\n",
       "\n"
      ],
      "text/plain": [
       "   Sepal.Length Petal.Length\n",
       "51 0.8860759    0.5949367   \n",
       "52 0.8101266    0.5696203   \n",
       "53 0.8734177    0.6202532   \n",
       "54 0.6962025    0.5063291   \n",
       "55 0.8227848    0.5822785   \n",
       "56 0.7215190    0.5696203   "
      ]
     },
     "metadata": {},
     "output_type": "display_data"
    },
    {
     "data": {
      "text/html": [
       "<ol class=list-inline>\n",
       "\t<li>0</li>\n",
       "\t<li>0</li>\n",
       "\t<li>0</li>\n",
       "\t<li>0</li>\n",
       "\t<li>0</li>\n",
       "\t<li>0</li>\n",
       "</ol>\n"
      ],
      "text/latex": [
       "\\begin{enumerate*}\n",
       "\\item 0\n",
       "\\item 0\n",
       "\\item 0\n",
       "\\item 0\n",
       "\\item 0\n",
       "\\item 0\n",
       "\\end{enumerate*}\n"
      ],
      "text/markdown": [
       "1. 0\n",
       "2. 0\n",
       "3. 0\n",
       "4. 0\n",
       "5. 0\n",
       "6. 0\n",
       "\n",
       "\n"
      ],
      "text/plain": [
       "[1] 0 0 0 0 0 0"
      ]
     },
     "metadata": {},
     "output_type": "display_data"
    }
   ],
   "source": [
    "# Two possible outcomes -> binomial\n",
    "data_df <- as.data.frame(iris)\n",
    "idx <- data_df$Species %in% c(\"virginica\", \"versicolor\")\n",
    "data_df <- data_df[idx,]\n",
    "y <- ifelse(data_df$Species==\"virginica\", 1, 0)\n",
    "\n",
    "# For faster convergence let's rescale X\n",
    "# So that we can plot this consider only 2 variables\n",
    "X <- data_df[c(1,3)]\n",
    "X <- as.matrix(X/max(X))\n",
    "\n",
    "# Resulting data-set\n",
    "head(X)\n",
    "head(y)"
   ]
  },
  {
   "cell_type": "markdown",
   "metadata": {},
   "source": [
    "### 1. Fit a binomial logit in R"
   ]
  },
  {
   "cell_type": "code",
   "execution_count": 3,
   "metadata": {
    "scrolled": false
   },
   "outputs": [
    {
     "name": "stdout",
     "output_type": "stream",
     "text": [
      "  (Intercept) XSepal.Length XPetal.Length \n",
      "    -39.83851     -31.73243     105.16992 \n"
     ]
    },
    {
     "data": {
      "image/png": "[encoded data removed]",
      "text/plain": [
       "Plot with title \"Iris type by length and width\""
      ]
     },
     "metadata": {},
     "output_type": "display_data"
    }
   ],
   "source": [
    "# Fit model\n",
    "model <- glm(y ~ X, family=binomial(link='logit'))\n",
    "\n",
    "# Params\n",
    "print(coef(model))\n",
    "# Coefficients:\n",
    "# (Intercept) XSepal.Length XPetal.Length \n",
    "# -39.83851     -31.73243     105.16992 \n",
    "#summary(model)\n",
    "\n",
    "# Visualise the decision boundary\n",
    "intcp <- coef(model)[1]/-(coef(model)[3])\n",
    "slope <- coef(model)[2]/-(coef(model)[3])\n",
    "\n",
    "# Our points\n",
    "plot(x=X[,1], y=X[,2], cex = 1, col=data_df$Species,\n",
    "     main = \"Iris type by length and width\", \n",
    "     xlab = \"Sepal Length\", ylab = \"Petal Length\")\n",
    "legend(x='topright', legend=unique(data_df$Species),col=unique(data_df$Species), pch=1)\n",
    "# Decision boundary\n",
    "abline(intcp , slope, col='blue')"
   ]
  },
  {
   "cell_type": "markdown",
   "metadata": {},
   "source": [
    "Because the log function is monotone, maximizing the likelihood is the same as maximizing the log likelihood\n",
    "\n",
    "\\begin{equation*} \n",
    "   l_x(\\theta) = \\log L_x(\\theta)\n",
    "\\end{equation*}\n",
    "\n",
    "For many reasons it is more convenient to use log likelihood rather than likelihood:\n",
    "\n",
    "\\begin{equation*}\n",
    "   \\log L_x\n",
    "   =\n",
    "   \\sum_{i=1}^{N} y_i\\beta^Tx_i - \\log(1+e^{\\beta^Tx_i})  \n",
    "\\end{equation*}"
   ]
  },
  {
   "cell_type": "code",
   "execution_count": 4,
   "metadata": {},
   "outputs": [
    {
     "data": {
      "text/plain": [
       "'log Lik.' -11.92523 (df=3)"
      ]
     },
     "metadata": {},
     "output_type": "display_data"
    },
    {
     "data": {
      "text/html": [
       "-11.9252287959358"
      ],
      "text/latex": [
       "-11.9252287959358"
      ],
      "text/markdown": [
       "-11.9252287959358"
      ],
      "text/plain": [
       "[1] -11.92523"
      ]
     },
     "metadata": {},
     "output_type": "display_data"
    }
   ],
   "source": [
    "logLik(model)  # Log-likelihood\n",
    "\n",
    "# Calculate log-likelihood ourself\n",
    "log_likelihood <- function(X_mat, y, beta_hat)\n",
    "{\n",
    "  scores <- X_mat %*% beta_hat\n",
    "  # Need to broadcast (y %*% scores)\n",
    "  ll <- (y * scores) - log(1+exp(scores))\n",
    "  sum(ll)\n",
    "}\n",
    "\n",
    "log_likelihood(cbind(1, X), y, coef(model))  # Match at -11.925"
   ]
  },
  {
   "cell_type": "markdown",
   "metadata": {},
   "source": [
    "### 2. Fit a binomial logit ourself (GD)"
   ]
  },
  {
   "cell_type": "markdown",
   "metadata": {},
   "source": [
    "Typically [BFGS](https://en.wikipedia.org/wiki/Broyden%E2%80%93Fletcher%E2%80%93Goldfarb%E2%80%93Shanno_algorithm) or other numerical optimisation procedures are used to minimise the cost/max log-likelihood instead of GD, because the parameter space is small ...\n",
    "\n",
    "However with GD if we have a small enough learning-rate and high-enough interations we will reach the optimum on a concave function (converge)"
   ]
  },
  {
   "cell_type": "code",
   "execution_count": 5,
   "metadata": {
    "collapsed": true
   },
   "outputs": [],
   "source": [
    "# Calculate activation function (sigmoid for logit)\n",
    "sigmoid <- function(z){1.0/(1.0+exp(-z))}\n",
    "\n",
    "logistic_reg <- function(X, y, epochs, lr)\n",
    "{\n",
    "  X_mat <- cbind(1, X)\n",
    "  beta_hat <- matrix(1, nrow=ncol(X_mat))\n",
    "  for (j in 1:epochs)\n",
    "  {\n",
    "    residual <- sigmoid(X_mat %*% beta_hat) - y\n",
    "    # Update weights with gradient descent\n",
    "    delta <- t(X_mat) %*% as.matrix(residual, ncol=nrow(X_mat)) *  (1/nrow(X_mat))\n",
    "    beta_hat <- beta_hat - (lr*delta)\n",
    "  }\n",
    "  # Print log-likliehood\n",
    "  print(log_likelihood(X_mat, y, beta_hat))\n",
    "  # Return\n",
    "  beta_hat\n",
    "}"
   ]
  },
  {
   "cell_type": "code",
   "execution_count": 6,
   "metadata": {},
   "outputs": [
    {
     "data": {
      "image/png": "[encoded data removed]",
      "text/plain": [
       "plot without title"
      ]
     },
     "metadata": {},
     "output_type": "display_data"
    }
   ],
   "source": [
    "# Why did scaling before help with convergence?\n",
    "# Vanishing gradient\n",
    "curve(sigmoid, -10, 10)"
   ]
  },
  {
   "cell_type": "code",
   "execution_count": 7,
   "metadata": {},
   "outputs": [
    {
     "name": "stdout",
     "output_type": "stream",
     "text": [
      "[1] -11.92523\n",
      "                  [,1]\n",
      "             -39.83848\n",
      "Sepal.Length -31.73240\n",
      "Petal.Length 105.16983\n"
     ]
    },
    {
     "data": {
      "image/png": "[encoded data removed]",
      "text/plain": [
       "Plot with title \"Iris type by length and width\""
      ]
     },
     "metadata": {},
     "output_type": "display_data"
    }
   ],
   "source": [
    "# Takes a while to converge with GD!\n",
    "beta_hat <- logistic_reg(X, y, 300000, 5)\n",
    "print(beta_hat)\n",
    "\n",
    "# Intercept    -39.83848\n",
    "# Sepal.Length -31.73240\n",
    "# Petal.Length 105.16983\n",
    "\n",
    "# Visualise the decision boundary\n",
    "plot(x=X[,1], y=X[,2], cex = 1, col=data_df$Species,\n",
    "     main = \"Iris type by length and width\", \n",
    "     xlab = \"Sepal Length\", ylab = \"Petal Length\")\n",
    "legend(x='topright', legend=unique(data_df$Species),col=unique(data_df$Species), pch=1)\n",
    "\n",
    "# Visualise the decision boundary\n",
    "intcp <- beta_hat[1]/-(beta_hat[3])\n",
    "slope <- beta_hat[2]/-(beta_hat[3])\n",
    "\n",
    "abline(intcp , slope, col='purple')"
   ]
  }
 ],
 "metadata": {
  "kernelspec": {
   "display_name": "R",
   "language": "R",
   "name": "ir"
  },
  "language_info": {
   "codemirror_mode": "r",
   "file_extension": ".r",
   "mimetype": "text/x-r-source",
   "name": "R",
   "pygments_lexer": "r",
   "version": "3.3.2"
  }
 },
 "nbformat": 4,
 "nbformat_minor": 2
}
