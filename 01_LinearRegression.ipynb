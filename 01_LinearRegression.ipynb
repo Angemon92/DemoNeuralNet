{
 "cells": [
  {
   "cell_type": "markdown",
   "metadata": {
    "collapsed": true
   },
   "source": [
    "## Linear Regression"
   ]
  },
  {
   "cell_type": "code",
   "execution_count": 1,
   "metadata": {
    "collapsed": true
   },
   "outputs": [],
   "source": [
    "# Reproduce results\n",
    "set.seed(1234567)"
   ]
  },
  {
   "cell_type": "markdown",
   "metadata": {},
   "source": [
    "### Data-Set"
   ]
  },
  {
   "cell_type": "code",
   "execution_count": 2,
   "metadata": {
    "collapsed": true
   },
   "outputs": [],
   "source": [
    "# Random data in which y is a noisy function of x\n",
    "X <- runif(100, -5, 5)\n",
    "y <- X + rnorm(100) + 3"
   ]
  },
  {
   "cell_type": "markdown",
   "metadata": {},
   "source": [
    "### 1. Linear Regression in R"
   ]
  },
  {
   "cell_type": "code",
   "execution_count": 3,
   "metadata": {},
   "outputs": [
    {
     "name": "stdout",
     "output_type": "stream",
     "text": [
      "\n",
      "Call:\n",
      "lm(formula = y ~ X)\n",
      "\n",
      "Coefficients:\n",
      "(Intercept)            X  \n",
      "     2.9455       0.9519  \n",
      "\n"
     ]
    },
    {
     "data": {
      "image/png": "[encoded data removed]",
      "text/plain": [
       "Plot with title \"Explain Wages with Height\""
      ]
     },
     "metadata": {},
     "output_type": "display_data"
    }
   ],
   "source": [
    "# Fit a model (regress weight on height)\n",
    "fit <- lm(y ~ X)\n",
    "print(fit)\n",
    "# Coefficients:\n",
    "#(Intercept)            X  \n",
    "#     2.9455       0.9519 \n",
    "\n",
    "# beta-hat\n",
    "fit_params <- fit$coefficients\n",
    "\n",
    "# Plot\n",
    "plot(x=X, y=y, cex = 1, col = \"grey\",\n",
    "     main = \"Explain Wages with Height\", xlab = \"Height\", ylab = \"Wages\")\n",
    "\n",
    "# Draw the regression line (intercept, slope)\n",
    "abline(a=fit_params[[1]], b=fit_params[[2]], col=\"blue\") "
   ]
  },
  {
   "cell_type": "markdown",
   "metadata": {},
   "source": [
    "### 2. Linear Regression from Scratch"
   ]
  },
  {
   "cell_type": "markdown",
   "metadata": {},
   "source": [
    "We assume that `X` is an `N x k` matrix, where we have `K` variables for `N` observations:\n",
    "\n",
    "\\begin{equation*} \n",
    "   y = X\\beta + \\epsilon\n",
    "\\end{equation*}\n",
    "\n",
    "The vector of residuals is thus:\n",
    "\n",
    "\\begin{equation*} \n",
    "   e = y - X\\beta^{OLS}\n",
    "\\end{equation*}\n",
    "\n",
    "Where OLS indicates that this is the Ordinary Least Squares estimate of $\\beta$\n",
    "\n",
    "The OLS estimate minimises the sum of squared residuals:\n",
    "\n",
    "\\begin{equation*} \n",
    "   e'e = (y - X\\beta^{OLS})'(y - X\\beta^{OLS})\n",
    "\\end{equation*}\n",
    "  \n",
    "We take the derivative of this w.r.t to beta-hat and set it equal to 0:\n",
    "\n",
    "\\begin{equation*} \n",
    "   0 = -2X'y + 2X'X\\beta^{OLS}\n",
    "\\end{equation*}\n",
    "\n",
    "Assuming that the matrix `X'X` is non-singular, we can invert it and get the closed-form solution:\n",
    "\n",
    "\\begin{equation*} \n",
    "   \\beta^{OLS} = (X'X)^{-1}X'y\n",
    "\\end{equation*}\n"
   ]
  },
  {
   "cell_type": "code",
   "execution_count": 4,
   "metadata": {},
   "outputs": [
    {
     "name": "stdout",
     "output_type": "stream",
     "text": [
      "           [,1]\n",
      "intcpt 2.945535\n",
      "       0.951942\n"
     ]
    },
    {
     "data": {
      "image/png": "[encoded data removed]",
      "text/plain": [
       "Plot with title \"Explain Wages with Height\""
      ]
     },
     "metadata": {},
     "output_type": "display_data"
    }
   ],
   "source": [
    "# Matrix of predictors (we only have one in this example)\n",
    "X_mat <- as.matrix(X)\n",
    "# Add column of 1s for intercept coefficient\n",
    "intcpt <- rep(1, length(y))\n",
    "\n",
    "# Combine predictors with intercept\n",
    "X_mat <- cbind(intcpt, X_mat)\n",
    "\n",
    "# OLS (closed-form solution)\n",
    "beta_hat <- solve(t(X_mat) %*% X_mat) %*% t(X_mat) %*% y\n",
    "print(beta_hat)\n",
    "# 2.945535, 0.951942\n",
    "\n",
    "# Plot\n",
    "plot(x=X, y=y, cex = 1, col = \"grey\",\n",
    "     main = \"Explain Wages with Height\", xlab = \"Height\", ylab = \"Wages\")\n",
    "\n",
    "# Draw the previous regression line\n",
    "abline(a=fit_params[[1]], b=fit_params[[2]], col=\"blue\")\n",
    "# Current regression line\n",
    "abline(a=beta_hat[[1]], b=beta_hat[[2]], col=\"green\")\n",
    "\n",
    "# To get y-hat:\n",
    "y_hat <- X_mat %*% beta_hat\n",
    "points(x=X, y=y_hat, pch = 2, col='yellow')"
   ]
  },
  {
   "cell_type": "markdown",
   "metadata": {},
   "source": [
    "Above we mentioned the assumption that the matrix $X'X$ is not-singular; below are two examples when this will fail and we cannot calculate the inverse:"
   ]
  },
  {
   "cell_type": "code",
   "execution_count": 5,
   "metadata": {},
   "outputs": [
    {
     "data": {
      "text/html": [
       "<ol class=list-inline>\n",
       "\t<li>100</li>\n",
       "\t<li>2</li>\n",
       "</ol>\n"
      ],
      "text/latex": [
       "\\begin{enumerate*}\n",
       "\\item 100\n",
       "\\item 2\n",
       "\\end{enumerate*}\n"
      ],
      "text/markdown": [
       "1. 100\n",
       "2. 2\n",
       "\n",
       "\n"
      ],
      "text/plain": [
       "[1] 100   2"
      ]
     },
     "metadata": {},
     "output_type": "display_data"
    },
    {
     "data": {
      "text/html": [
       "<ol class=list-inline>\n",
       "\t<li>2</li>\n",
       "\t<li>2</li>\n",
       "</ol>\n"
      ],
      "text/latex": [
       "\\begin{enumerate*}\n",
       "\\item 2\n",
       "\\item 2\n",
       "\\end{enumerate*}\n"
      ],
      "text/markdown": [
       "1. 2\n",
       "2. 2\n",
       "\n",
       "\n"
      ],
      "text/plain": [
       "[1] 2 2"
      ]
     },
     "metadata": {},
     "output_type": "display_data"
    },
    {
     "data": {
      "text/plain": [
       "NULL"
      ]
     },
     "metadata": {},
     "output_type": "display_data"
    },
    {
     "data": {
      "text/plain": [
       "NULL"
      ]
     },
     "metadata": {},
     "output_type": "display_data"
    }
   ],
   "source": [
    "dim(X_mat)  # 100 by 2\n",
    "inv <- solve(t(X_mat) %*% X_mat)\n",
    "dim(inv)  # Possible to invert\n",
    "\n",
    "# 1. We have a column that is a (perfect) linear combo of another\n",
    "X_mat_fail <- cbind((10*X_mat[,1])+8, X_mat)\n",
    "inv <- try(solve(t(X_mat_fail) %*% X_mat_fail), silent = TRUE)\n",
    "dim(inv)  # Couldn't invert\n",
    "\n",
    "# 2. We have more variables than observations\n",
    "X_mat_fail <- matrix(runif(100, -5, 5), nrow=10, ncol=20)\n",
    "inv <- try(solve(t(X_mat_fail) %*% X_mat_fail), silent = TRUE)\n",
    "dim(inv)  # Couldn't invert"
   ]
  },
  {
   "cell_type": "markdown",
   "metadata": {},
   "source": [
    "### 3. Linear Regression with Gradient Descent"
   ]
  },
  {
   "cell_type": "code",
   "execution_count": 6,
   "metadata": {
    "collapsed": true
   },
   "outputs": [],
   "source": [
    "gradient_descent <- function(X, y, lr, epochs)\n",
    "{\n",
    "  X_mat <- cbind(1, X)\n",
    "  # Initialise beta_hat matrix\n",
    "  beta_hat <- matrix(0.1, nrow=ncol(X_mat))\n",
    "  for (j in 1:epochs)\n",
    "  {\n",
    "    residual <- (X_mat %*% beta_hat) - y\n",
    "    delta <- (t(X_mat) %*% residual) * (1/nrow(X_mat))\n",
    "    beta_hat <- beta_hat - (lr*delta)\n",
    "    # Draw the regression line each epoch\n",
    "    abline(a=beta_hat[[1]], b=beta_hat[[2]], col=\"grey\")\n",
    "  }\n",
    "  # Return \n",
    "  beta_hat\n",
    "}"
   ]
  },
  {
   "cell_type": "code",
   "execution_count": 7,
   "metadata": {},
   "outputs": [
    {
     "name": "stdout",
     "output_type": "stream",
     "text": [
      "      [,1]\n",
      "  2.945535\n",
      "X 0.951942\n"
     ]
    },
    {
     "data": {
      "image/png": "[encoded data removed]",
      "text/plain": [
       "Plot with title \"Explain Wages with Height\""
      ]
     },
     "metadata": {},
     "output_type": "display_data"
    }
   ],
   "source": [
    "# Plot\n",
    "plot(x=X, y=y, cex = 1, col = \"grey\",\n",
    "     main = \"Explain Wages with Height\", xlab = \"Height\", ylab = \"Wages\")\n",
    "\n",
    "beta_hat <- gradient_descent(X, y, 0.1, 200)\n",
    "print(beta_hat)\n",
    "# 2.945535, 0.951942\n",
    "\n",
    "# Draw the regression line\n",
    "abline(a=beta_hat[[1]], b=beta_hat[[2]], col=\"red\")\n",
    "\n",
    "# To get y-hat:\n",
    "y_hat <- X_mat %*% beta_hat\n",
    "points(x=X, y=y_hat, pch = 2, col='yellow')"
   ]
  }
 ],
 "metadata": {
  "kernelspec": {
   "display_name": "R",
   "language": "R",
   "name": "ir"
  },
  "language_info": {
   "codemirror_mode": "r",
   "file_extension": ".r",
   "mimetype": "text/x-r-source",
   "name": "R",
   "pygments_lexer": "r",
   "version": "3.3.2"
  }
 },
 "nbformat": 4,
 "nbformat_minor": 2
}
