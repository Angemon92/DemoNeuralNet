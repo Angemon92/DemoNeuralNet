{
 "cells": [
  {
   "cell_type": "code",
   "execution_count": 1,
   "metadata": {
    "collapsed": true
   },
   "outputs": [],
   "source": [
    "# Python base (following Nielsen's network.py) for R-adoption\n",
    "# https://github.com/mnielsen/neural-networks-and-deep-learning/blob/master/src/network.py"
   ]
  },
  {
   "cell_type": "code",
   "execution_count": 2,
   "metadata": {
    "collapsed": true
   },
   "outputs": [],
   "source": [
    "import random \n",
    "import numpy as np"
   ]
  },
  {
   "cell_type": "code",
   "execution_count": 3,
   "metadata": {
    "collapsed": true
   },
   "outputs": [],
   "source": [
    "def sigmoid(z):\n",
    "    return 1.0/(1.0+np.exp(-z))\n",
    "\n",
    "def sigmoid_prime(z):\n",
    "    \"\"\"Derivative of sigmoid function\"\"\"\n",
    "    return sigmoid(z)*(1-sigmoid(z))"
   ]
  },
  {
   "cell_type": "code",
   "execution_count": 4,
   "metadata": {
    "collapsed": true
   },
   "outputs": [],
   "source": [
    "class Network(object):\n",
    "    \n",
    "    def __init__(self, sizes):\n",
    "        \"\"\"Initialize network with number of neurons in respective layers, e.g.\n",
    "        [2, 3, 1] means a hidden-layer of 3. Initialise biases and weights\n",
    "        randomly using N(0,1)\"\"\"\n",
    "        self.num_layers = len(sizes)\n",
    "        self.sizes = sizes\n",
    "        # Biases only for 2nd to last layers; 3x1 then 1x1\n",
    "        # Random normal\n",
    "        self.biases = [np.random.randn(y, 1) for y in sizes[1:]]\n",
    "        self.weights = [np.random.randn(y, x) for x, y in zip(sizes[:-1], sizes[1:])]\n",
    "        \n",
    "    def feedforward(self, a):\n",
    "        \"\"\"Propogate input forward and return output\"\"\"\n",
    "        for b, w in zip(self.biases, self.weights):\n",
    "            # Sigmoid custom function\n",
    "            a = sigmoid(np.dot(w, a) + b)\n",
    "        return a\n",
    "    \n",
    "    def SGD(self, training_data, epochs, mini_batch_size, lr,\n",
    "            validation_data=None):\n",
    "        \"\"\"Training data is a list of tuples[(x,y)], lr\n",
    "        is the learning-rate\"\"\"\n",
    "        n = len(training_data)\n",
    "        for j in range(epochs):\n",
    "            # Stochastic mini-batch\n",
    "            random.shuffle(training_data)\n",
    "            # Partition set into min-batches\n",
    "            mini_batches = [training_data[k:k+mini_batch_size] \n",
    "                            for k in range(0, n, mini_batch_size)]\n",
    "            # Feed-forward mini-batch\n",
    "            for mini_batch in mini_batches:\n",
    "                self.update_mini_batch(mini_batch, lr)\n",
    "            # Validiation data\n",
    "            if validation_data:\n",
    "                n_valid = len(validation_data)\n",
    "                print(\"Epoch {0}: {1}/{2}\".format(\n",
    "                        j, self.evaluate(validation_data), n_valid))\n",
    "            else:\n",
    "                print(\"Epcoh {0} complete\".format(j))\n",
    "                \n",
    "    def update_mini_batch(self, mini_batch, lr):\n",
    "        \"\"\"Update network's weights and biases by applying GD using\n",
    "        backpropgation to a single mini-batch which is a list of tuples\"\"\"\n",
    "        nmb = len(mini_batch)\n",
    "        # Initialise updates with zero\n",
    "        nabla_b = [np.zeros(b.shape) for b in self.biases]\n",
    "        nabla_w = [np.zeros(w.shape) for w in self.weights]\n",
    "        # Got through mini_batch\n",
    "        for x, y in mini_batch:\n",
    "            # Back-propogation will return delta\n",
    "            delta_nabla_b, delta_nabla_w = self.backprop(x, y)\n",
    "            nabla_b = [nb+dnb for nb, dnb in zip(nabla_b, delta_nabla_b)]\n",
    "            nabla_w = [nw+dnw for nw, dnw in zip(nabla_w, delta_nabla_w)]\n",
    "        # Opposite direction of gradient\n",
    "        self.weights = [w-(lr/len(mini_batch))*nw\n",
    "                        for w, nw in zip(self.weights, nabla_w)]\n",
    "        self.biases = [b-(lr/len(mini_batch))*nb\n",
    "                       for b, nb in zip(self.biases, nabla_b)]\n",
    "\n",
    "    def backprop(self, x, y):\n",
    "        \"\"\"Return tuple `nabla_b, nabla_w' representing gradient\n",
    "        for cost function C_x. `nabla_b' and `nabla_w' are lists of\n",
    "        numpy arrays\"\"\"\n",
    "        nabla_b = [np.zeros(b.shape) for b in self.biases]\n",
    "        nabla_w = [np.zeros(w.shape) for w in self.weights]\n",
    "        \n",
    "        # Feed-forward\n",
    "        activation = x\n",
    "        activations = [x]\n",
    "        # z = f(w.x + b)\n",
    "        zs = []  # list to store all z vectors\n",
    "        for b, w in zip(self.biases, self.weights):\n",
    "            z = np.dot(w, activation) + b\n",
    "            zs.append(z)\n",
    "            activation = sigmoid(z)\n",
    "            activations.append(activation)\n",
    "            \n",
    "        # Backwards \n",
    "        # Last layer\n",
    "        sp = sigmoid_prime(zs[-1])\n",
    "        delta = self.cost_derivative(activations[-1], y) * sp\n",
    "        nabla_b[-1] = delta\n",
    "        nabla_w[-1]= np.dot(delta, activations[-2].transpose())\n",
    "        # Second to second-to-last-layer\n",
    "        for k in range(2, self.num_layers):\n",
    "            sp = sigmoid_prime(zs[-k])\n",
    "            delta = np.dot(self.weights[-k+1].transpose(), delta) * sp\n",
    "            nabla_b[-k] = delta\n",
    "            nabla_w[-k] = np.dot(delta, activations[-k-1].transpose())\n",
    "        return (nabla_b, nabla_w)\n",
    "    \n",
    "    def evaluate(self, test_data):\n",
    "        \"\"\"Return accuracy metric\"\"\"\n",
    "        # Argument with highest probability\n",
    "        #pred = np.argmax(self.feedforward(x), axis=1)\n",
    "        #return np.sum(pred == y)\n",
    "        test_results = [(np.argmax(self.feedforward(x)), y)\n",
    "                        for (x, y) in test_data]\n",
    "        return sum(int(x == y) for (x, y) in test_results)\n",
    "    \n",
    "    def cost_derivative(self, output_activations, y):\n",
    "        \"\"\"Return vector of partial derivatives\"\"\"\n",
    "        return(output_activations-y)        "
   ]
  },
  {
   "cell_type": "markdown",
   "metadata": {},
   "source": [
    "# Iris"
   ]
  },
  {
   "cell_type": "code",
   "execution_count": 5,
   "metadata": {
    "collapsed": false
   },
   "outputs": [
    {
     "data": {
      "text/plain": [
       "(array([[ 0.60759494],\n",
       "        [ 0.39240506],\n",
       "        [ 0.20253165],\n",
       "        [ 0.02531646]]), 0)"
      ]
     },
     "execution_count": 5,
     "metadata": {},
     "output_type": "execute_result"
    }
   ],
   "source": [
    "from sklearn import datasets\n",
    "\n",
    "def vectorized_result(j):\n",
    "    \"\"\" Turn int `y' into one-hot encoding\"\"\"\n",
    "    e = np.zeros((3, 1))\n",
    "    e[j] = 1.0\n",
    "    return e\n",
    "\n",
    "# Load iris from sklearn\n",
    "iris = datasets.load_iris()\n",
    "X = iris.data/np.max(iris.data)  # Scale to 0-1\n",
    "Y = iris.target\n",
    "\n",
    "# Shuffle data\n",
    "idx = np.random.choice(np.arange(len(Y)), 100, replace=False)\n",
    "\n",
    "# Create training data\n",
    "train_inputs = [np.reshape(x, (4, 1)) for x in X[idx]]\n",
    "train_results = [vectorized_result(y) for y in Y[idx]]\n",
    "train_iris = list(zip(train_inputs, train_results))\n",
    "\n",
    "# Create test data\n",
    "test_inputs = [np.reshape(x, (4, 1)) for x in X[-idx]]\n",
    "test_results = Y[-idx]\n",
    "test_iris = list(zip(test_inputs, test_results))\n",
    "\n",
    "# Sample\n",
    "test_iris[0]"
   ]
  },
  {
   "cell_type": "code",
   "execution_count": 6,
   "metadata": {
    "collapsed": false
   },
   "outputs": [],
   "source": [
    "# Create Network\n",
    "net = Network([4, 10, 3])"
   ]
  },
  {
   "cell_type": "code",
   "execution_count": 7,
   "metadata": {
    "collapsed": false
   },
   "outputs": [
    {
     "name": "stdout",
     "output_type": "stream",
     "text": [
      "Epoch 0: 35/100\n",
      "Epoch 1: 33/100\n",
      "Epoch 2: 67/100\n",
      "Epoch 3: 67/100\n",
      "Epoch 4: 67/100\n",
      "Epoch 5: 93/100\n",
      "Epoch 6: 67/100\n",
      "Epoch 7: 72/100\n",
      "Epoch 8: 67/100\n",
      "Epoch 9: 81/100\n",
      "Epoch 10: 67/100\n",
      "Epoch 11: 86/100\n",
      "Epoch 12: 91/100\n",
      "Epoch 13: 67/100\n",
      "Epoch 14: 94/100\n",
      "Epoch 15: 79/100\n",
      "Epoch 16: 85/100\n",
      "Epoch 17: 67/100\n",
      "Epoch 18: 93/100\n",
      "Epoch 19: 95/100\n",
      "Epoch 20: 77/100\n",
      "Epoch 21: 85/100\n",
      "Epoch 22: 85/100\n",
      "Epoch 23: 73/100\n",
      "Epoch 24: 86/100\n",
      "Epoch 25: 70/100\n",
      "Epoch 26: 94/100\n",
      "Epoch 27: 88/100\n",
      "Epoch 28: 79/100\n",
      "Epoch 29: 95/100\n"
     ]
    }
   ],
   "source": [
    "# Train\n",
    "net.SGD(training_data=train_iris, \n",
    "        epochs=30, \n",
    "        mini_batch_size=10,\n",
    "        lr=3.0,\n",
    "        validation_data=test_iris)"
   ]
  },
  {
   "cell_type": "markdown",
   "metadata": {},
   "source": [
    "# Load Digits"
   ]
  },
  {
   "cell_type": "code",
   "execution_count": 8,
   "metadata": {
    "collapsed": false
   },
   "outputs": [
    {
     "data": {
      "text/plain": [
       "(array([[ 0.    ],\n",
       "        [ 0.    ],\n",
       "        [ 0.    ],\n",
       "        [ 0.9375],\n",
       "        [ 0.3125],\n",
       "        [ 0.    ],\n",
       "        [ 0.    ],\n",
       "        [ 0.    ],\n",
       "        [ 0.    ],\n",
       "        [ 0.    ],\n",
       "        [ 0.25  ],\n",
       "        [ 1.    ],\n",
       "        [ 0.4375],\n",
       "        [ 0.    ],\n",
       "        [ 0.    ],\n",
       "        [ 0.    ],\n",
       "        [ 0.    ],\n",
       "        [ 0.0625],\n",
       "        [ 0.8125],\n",
       "        [ 1.    ],\n",
       "        [ 0.    ],\n",
       "        [ 0.5625],\n",
       "        [ 0.125 ],\n",
       "        [ 0.    ],\n",
       "        [ 0.    ],\n",
       "        [ 0.3125],\n",
       "        [ 1.    ],\n",
       "        [ 0.6875],\n",
       "        [ 0.3125],\n",
       "        [ 1.    ],\n",
       "        [ 0.5625],\n",
       "        [ 0.    ],\n",
       "        [ 0.    ],\n",
       "        [ 0.4375],\n",
       "        [ 1.    ],\n",
       "        [ 0.875 ],\n",
       "        [ 1.    ],\n",
       "        [ 1.    ],\n",
       "        [ 0.4375],\n",
       "        [ 0.    ],\n",
       "        [ 0.    ],\n",
       "        [ 0.0625],\n",
       "        [ 0.6875],\n",
       "        [ 0.9375],\n",
       "        [ 1.    ],\n",
       "        [ 0.625 ],\n",
       "        [ 0.    ],\n",
       "        [ 0.    ],\n",
       "        [ 0.    ],\n",
       "        [ 0.    ],\n",
       "        [ 0.    ],\n",
       "        [ 0.8125],\n",
       "        [ 1.    ],\n",
       "        [ 0.1875],\n",
       "        [ 0.    ],\n",
       "        [ 0.    ],\n",
       "        [ 0.    ],\n",
       "        [ 0.    ],\n",
       "        [ 0.0625],\n",
       "        [ 1.    ],\n",
       "        [ 0.6875],\n",
       "        [ 0.    ],\n",
       "        [ 0.    ],\n",
       "        [ 0.    ]]), 4)"
      ]
     },
     "execution_count": 8,
     "metadata": {},
     "output_type": "execute_result"
    }
   ],
   "source": [
    "def vectorized_result(j):\n",
    "    \"\"\" Turn int `y' into one-hot encoding\"\"\"\n",
    "    e = np.zeros((10, 1))\n",
    "    e[j] = 1.0\n",
    "    return e\n",
    "\n",
    "# Load breast_cancer from sklearn\n",
    "mnist = datasets.load_digits()\n",
    "X = mnist.data/np.max(mnist.data)  # Scale to 0-1\n",
    "Y = mnist.target\n",
    "\n",
    "# Shuffle data\n",
    "idx = np.random.choice(np.arange(len(Y)), 1500, replace=False)\n",
    "\n",
    "# Create training data\n",
    "train_inputs = [np.reshape(x, (64, 1)) for x in X[idx]]\n",
    "train_results = [vectorized_result(y) for y in Y[idx]]\n",
    "train_mnist = list(zip(train_inputs, train_results))\n",
    "\n",
    "# Create test data\n",
    "test_inputs = [np.reshape(x, (64, 1)) for x in X[-idx]]\n",
    "test_results = Y[-idx]\n",
    "test_mnist = list(zip(test_inputs, test_results))\n",
    "\n",
    "# Sample\n",
    "test_mnist[0]"
   ]
  },
  {
   "cell_type": "code",
   "execution_count": 9,
   "metadata": {
    "collapsed": true
   },
   "outputs": [],
   "source": [
    "# Create Network\n",
    "net = Network([64, 10, 10])"
   ]
  },
  {
   "cell_type": "code",
   "execution_count": 10,
   "metadata": {
    "collapsed": false
   },
   "outputs": [
    {
     "name": "stdout",
     "output_type": "stream",
     "text": [
      "Epoch 0: 905/1500\n",
      "Epoch 1: 1115/1500\n",
      "Epoch 2: 1160/1500\n",
      "Epoch 3: 1241/1500\n",
      "Epoch 4: 1347/1500\n",
      "Epoch 5: 1405/1500\n",
      "Epoch 6: 1399/1500\n",
      "Epoch 7: 1409/1500\n",
      "Epoch 8: 1418/1500\n",
      "Epoch 9: 1436/1500\n",
      "Epoch 10: 1435/1500\n",
      "Epoch 11: 1435/1500\n",
      "Epoch 12: 1432/1500\n",
      "Epoch 13: 1444/1500\n",
      "Epoch 14: 1451/1500\n",
      "Epoch 15: 1448/1500\n",
      "Epoch 16: 1457/1500\n",
      "Epoch 17: 1451/1500\n",
      "Epoch 18: 1452/1500\n",
      "Epoch 19: 1460/1500\n",
      "Epoch 20: 1468/1500\n",
      "Epoch 21: 1468/1500\n",
      "Epoch 22: 1467/1500\n",
      "Epoch 23: 1459/1500\n",
      "Epoch 24: 1473/1500\n",
      "Epoch 25: 1462/1500\n",
      "Epoch 26: 1471/1500\n",
      "Epoch 27: 1470/1500\n",
      "Epoch 28: 1470/1500\n",
      "Epoch 29: 1472/1500\n"
     ]
    }
   ],
   "source": [
    "# Train\n",
    "net.SGD(training_data=train_mnist, \n",
    "        epochs=30, \n",
    "        mini_batch_size=10,\n",
    "        lr=3.0,\n",
    "        validation_data=test_mnist)"
   ]
  },
  {
   "cell_type": "code",
   "execution_count": null,
   "metadata": {
    "collapsed": true
   },
   "outputs": [],
   "source": []
  }
 ],
 "metadata": {
  "kernelspec": {
   "display_name": "Python [Root]",
   "language": "python",
   "name": "Python [Root]"
  },
  "language_info": {
   "codemirror_mode": {
    "name": "ipython",
    "version": 3
   },
   "file_extension": ".py",
   "mimetype": "text/x-python",
   "name": "python",
   "nbconvert_exporter": "python",
   "pygments_lexer": "ipython3",
   "version": "3.5.2"
  }
 },
 "nbformat": 4,
 "nbformat_minor": 0
}
