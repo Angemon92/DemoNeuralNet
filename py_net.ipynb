{
 "cells": [
  {
   "cell_type": "code",
   "execution_count": 25,
   "metadata": {
    "collapsed": true
   },
   "outputs": [],
   "source": [
    "# Python base (following Nielsen's network.py) for R-adoption\n",
    "# https://github.com/mnielsen/neural-networks-and-deep-learning/blob/master/src/network.py"
   ]
  },
  {
   "cell_type": "code",
   "execution_count": 26,
   "metadata": {
    "collapsed": true
   },
   "outputs": [],
   "source": [
    "import random \n",
    "import numpy as np"
   ]
  },
  {
   "cell_type": "code",
   "execution_count": 27,
   "metadata": {
    "collapsed": false
   },
   "outputs": [],
   "source": [
    "def sigmoid(z):\n",
    "    return 1.0/(1.0+np.exp(-z))\n",
    "\n",
    "def sigmoid_prime(z):\n",
    "    \"\"\"Derivative of sigmoid function\"\"\"\n",
    "    return sigmoid(z)*(1-sigmoid(z))"
   ]
  },
  {
   "cell_type": "code",
   "execution_count": 28,
   "metadata": {
    "collapsed": true
   },
   "outputs": [],
   "source": [
    "class Network(object):\n",
    "    \n",
    "    def __init__(self, sizes):\n",
    "        \"\"\"Initialize network with number of neurons in respective layers, e.g.\n",
    "        [2, 3, 1] means a hidden-layer of 3. Initialise biases and weights\n",
    "        randomly using N(0,1)\"\"\"\n",
    "        self.num_layers = len(sizes)\n",
    "        self.sizes = sizes\n",
    "        # Biases only for 2nd to last layers; 3x1 then 1x1\n",
    "        # Random normal\n",
    "        self.biases = [np.random.randn(y, 1) for y in sizes[1:]]\n",
    "        self.weights = [np.random.randn(y, x) for x, y in zip(sizes[:-1], sizes[1:])]\n",
    "        \n",
    "    def feedforward(self, a):\n",
    "        \"\"\"Propogate input forward and return output\"\"\"\n",
    "        for b, w in zip(self.biases, self.weights):\n",
    "            # Sigmoid custom function\n",
    "            a = sigmoid(np.dot(w, a) + b)\n",
    "        return a\n",
    "    \n",
    "    def SGD(self, training_data, epochs, mini_batch_size, lr,\n",
    "            validation_data=None):\n",
    "        \"\"\"Training data is a list of tuples[(x,y)], lr\n",
    "        is the learning-rate\"\"\"\n",
    "        n = len(training_data)\n",
    "        for j in range(epochs):\n",
    "            # Stochastic mini-batch\n",
    "            random.shuffle(training_data)\n",
    "            # Partition set into min-batches\n",
    "            mini_batches = [training_data[k:k+mini_batch_size] \n",
    "                            for k in range(0, n, mini_batch_size)]\n",
    "            # Feed-forward mini-batch\n",
    "            for mini_batch in mini_batches:\n",
    "                self.update_mini_batch(mini_batch, lr)\n",
    "            # Validiation data\n",
    "            if validation_data:\n",
    "                n_valid = len(validation_data)\n",
    "                print(\"Epoch {0}: {1}/{2}\".format(\n",
    "                        j, self.evaluate(validation_data), n_valid))\n",
    "            else:\n",
    "                print(\"Epcoh {0} complete\".format(j))\n",
    "                \n",
    "    def update_mini_batch(self, mini_batch, lr):\n",
    "        \"\"\"Update network's weights and biases by applying GD using\n",
    "        backpropgation to a single mini-batch which is a list of tuples\"\"\"\n",
    "        nmb = len(mini_batch)\n",
    "        # Initialise updates with zero\n",
    "        nabla_b = [np.zeros(b.shape) for b in self.biases]\n",
    "        nabla_w = [np.zeros(w.shape) for w in self.weights]\n",
    "        # Got through mini_batch\n",
    "        for x, y in mini_batch:\n",
    "            # Back-propogation will return delta\n",
    "            delta_nabla_b, delta_nabla_w = self.backprop(x, y)\n",
    "            nabla_b = [nb+dnb for nb, dnb in zip(nabla_b, delta_nabla_b)]\n",
    "            nabla_w = [nw+dnw for nw, dnw in zip(nabla_w, delta_nabla_w)]\n",
    "        # Opposite direction of gradient\n",
    "        self.weights = [w-(lr/len(mini_batch))*nw\n",
    "                        for w, nw in zip(self.weights, nabla_w)]\n",
    "        self.biases = [b-(lr/len(mini_batch))*nb\n",
    "                       for b, nb in zip(self.biases, nabla_b)]\n",
    "\n",
    "    def backprop(self, x, y):\n",
    "        \"\"\"Return tuple `nabla_b, nabla_w' representing gradient\n",
    "        for cost function C_x. `nabla_b' and `nabla_w' are lists of\n",
    "        numpy arrays\"\"\"\n",
    "        nabla_b = [np.zeros(b.shape) for b in self.biases]\n",
    "        nabla_w = [np.zeros(w.shape) for w in self.weights]\n",
    "        \n",
    "        # Feed-forward\n",
    "        activation = x\n",
    "        activations = [x]\n",
    "        # z = f(w.x + b)\n",
    "        zs = []  # list to store all z vectors\n",
    "        for b, w in zip(self.biases, self.weights):\n",
    "            z = np.dot(w, activation) + b\n",
    "            zs.append(z)\n",
    "            activation = sigmoid(z)\n",
    "            activations.append(activation)\n",
    "            \n",
    "        # Backwards \n",
    "        # Last layer\n",
    "        sp = sigmoid_prime(zs[-1])\n",
    "        delta = self.cost_derivative(activations[-1], y) * sp\n",
    "        nabla_b[-1] = delta\n",
    "        nabla_w[-1]= np.dot(delta, activations[-2].transpose())\n",
    "        # Second to second-to-last-layer\n",
    "        for k in range(2, self.num_layers):\n",
    "            sp = sigmoid_prime(zs[-k])\n",
    "            delta = np.dot(self.weights[-k+1].transpose(), delta) * sp\n",
    "            nabla_b[-k] = delta\n",
    "            nabla_w[-k] = np.dot(delta, activations[-k-1].transpose())\n",
    "        return (nabla_b, nabla_w)\n",
    "    \n",
    "    def evaluate(self, test_data):\n",
    "        \"\"\"Return accuracy metric\"\"\"\n",
    "        # Argument with highest probability\n",
    "        #pred = np.argmax(self.feedforward(x), axis=1)\n",
    "        #return np.sum(pred == y)\n",
    "        test_results = [(np.argmax(self.feedforward(x)), y)\n",
    "                        for (x, y) in test_data]\n",
    "        return sum(int(x == y) for (x, y) in test_results)\n",
    "    \n",
    "    def cost_derivative(self, output_activations, y):\n",
    "        \"\"\"Return vector of partial derivatives\"\"\"\n",
    "        return(output_activations-y)        "
   ]
  },
  {
   "cell_type": "markdown",
   "metadata": {},
   "source": [
    "# Iris"
   ]
  },
  {
   "cell_type": "code",
   "execution_count": 29,
   "metadata": {
    "collapsed": false
   },
   "outputs": [
    {
     "data": {
      "text/plain": [
       "(array([[ 0.7721519 ],\n",
       "        [ 0.35443038],\n",
       "        [ 0.59493671],\n",
       "        [ 0.15189873]]), 1)"
      ]
     },
     "execution_count": 29,
     "metadata": {},
     "output_type": "execute_result"
    }
   ],
   "source": [
    "from sklearn import datasets\n",
    "\n",
    "def vectorized_result(j):\n",
    "    \"\"\" Turn int `y' into one-hot encoding\"\"\"\n",
    "    e = np.zeros((3, 1))\n",
    "    e[j] = 1.0\n",
    "    return e\n",
    "\n",
    "# Load iris from sklearn\n",
    "iris = datasets.load_iris()\n",
    "X = iris.data/np.max(iris.data)  # Scale to 0-1\n",
    "Y = iris.target\n",
    "\n",
    "# Shuffle data\n",
    "idx = np.random.choice(np.arange(len(Y)), 100, replace=False)\n",
    "\n",
    "# Create training data\n",
    "train_inputs = [np.reshape(x, (4, 1)) for x in X[idx]]\n",
    "train_results = [vectorized_result(y) for y in Y[idx]]\n",
    "train_iris = list(zip(train_inputs, train_results))\n",
    "\n",
    "# Create test data\n",
    "test_inputs = [np.reshape(x, (4, 1)) for x in X[-idx]]\n",
    "test_results = Y[-idx]\n",
    "test_iris = list(zip(test_inputs, test_results))\n",
    "\n",
    "# Sample\n",
    "test_iris[0]"
   ]
  },
  {
   "cell_type": "code",
   "execution_count": 30,
   "metadata": {
    "collapsed": false
   },
   "outputs": [],
   "source": [
    "# Create Network\n",
    "net = Network([4, 10, 3])"
   ]
  },
  {
   "cell_type": "code",
   "execution_count": 32,
   "metadata": {
    "collapsed": false
   },
   "outputs": [
    {
     "name": "stdout",
     "output_type": "stream",
     "text": [
      "Epoch 0: 88/100\n",
      "Epoch 1: 87/100\n",
      "Epoch 2: 92/100\n",
      "Epoch 3: 94/100\n",
      "Epoch 4: 91/100\n",
      "Epoch 5: 92/100\n",
      "Epoch 6: 83/100\n",
      "Epoch 7: 89/100\n",
      "Epoch 8: 93/100\n",
      "Epoch 9: 95/100\n",
      "Epoch 10: 91/100\n",
      "Epoch 11: 90/100\n",
      "Epoch 12: 93/100\n",
      "Epoch 13: 92/100\n",
      "Epoch 14: 83/100\n",
      "Epoch 15: 79/100\n",
      "Epoch 16: 82/100\n",
      "Epoch 17: 88/100\n",
      "Epoch 18: 88/100\n",
      "Epoch 19: 77/100\n",
      "Epoch 20: 95/100\n",
      "Epoch 21: 86/100\n",
      "Epoch 22: 88/100\n",
      "Epoch 23: 73/100\n",
      "Epoch 24: 83/100\n",
      "Epoch 25: 92/100\n",
      "Epoch 26: 94/100\n",
      "Epoch 27: 92/100\n",
      "Epoch 28: 93/100\n",
      "Epoch 29: 96/100\n"
     ]
    }
   ],
   "source": [
    "# Train\n",
    "net.SGD(training_data=train_iris, \n",
    "        epochs=30, \n",
    "        mini_batch_size=10,\n",
    "        lr=3.0,\n",
    "        validation_data=test_iris)"
   ]
  },
  {
   "cell_type": "markdown",
   "metadata": {},
   "source": [
    "# Load Digits"
   ]
  },
  {
   "cell_type": "code",
   "execution_count": 33,
   "metadata": {
    "collapsed": false
   },
   "outputs": [
    {
     "data": {
      "text/plain": [
       "(array([[ 0.    ],\n",
       "        [ 0.    ],\n",
       "        [ 0.25  ],\n",
       "        [ 0.8125],\n",
       "        [ 1.    ],\n",
       "        [ 0.6875],\n",
       "        [ 0.    ],\n",
       "        [ 0.    ],\n",
       "        [ 0.    ],\n",
       "        [ 0.5625],\n",
       "        [ 1.    ],\n",
       "        [ 0.5625],\n",
       "        [ 0.625 ],\n",
       "        [ 0.9375],\n",
       "        [ 0.    ],\n",
       "        [ 0.    ],\n",
       "        [ 0.    ],\n",
       "        [ 0.3125],\n",
       "        [ 0.25  ],\n",
       "        [ 0.    ],\n",
       "        [ 0.75  ],\n",
       "        [ 0.6875],\n",
       "        [ 0.    ],\n",
       "        [ 0.    ],\n",
       "        [ 0.    ],\n",
       "        [ 0.    ],\n",
       "        [ 0.    ],\n",
       "        [ 0.3125],\n",
       "        [ 1.    ],\n",
       "        [ 0.75  ],\n",
       "        [ 0.0625],\n",
       "        [ 0.    ],\n",
       "        [ 0.    ],\n",
       "        [ 0.    ],\n",
       "        [ 0.    ],\n",
       "        [ 0.0625],\n",
       "        [ 0.5625],\n",
       "        [ 0.9375],\n",
       "        [ 0.5   ],\n",
       "        [ 0.    ],\n",
       "        [ 0.    ],\n",
       "        [ 0.    ],\n",
       "        [ 0.    ],\n",
       "        [ 0.    ],\n",
       "        [ 0.    ],\n",
       "        [ 0.5   ],\n",
       "        [ 0.75  ],\n",
       "        [ 0.    ],\n",
       "        [ 0.    ],\n",
       "        [ 0.    ],\n",
       "        [ 0.0625],\n",
       "        [ 0.375 ],\n",
       "        [ 0.5   ],\n",
       "        [ 1.    ],\n",
       "        [ 0.5   ],\n",
       "        [ 0.    ],\n",
       "        [ 0.    ],\n",
       "        [ 0.    ],\n",
       "        [ 0.3125],\n",
       "        [ 1.    ],\n",
       "        [ 0.9375],\n",
       "        [ 0.5625],\n",
       "        [ 0.0625],\n",
       "        [ 0.    ]]), 3)"
      ]
     },
     "execution_count": 33,
     "metadata": {},
     "output_type": "execute_result"
    }
   ],
   "source": [
    "def vectorized_result(j):\n",
    "    \"\"\" Turn int `y' into one-hot encoding\"\"\"\n",
    "    e = np.zeros((10, 1))\n",
    "    e[j] = 1.0\n",
    "    return e\n",
    "\n",
    "# Load breast_cancer from sklearn\n",
    "mnist = datasets.load_digits()\n",
    "X = mnist.data/np.max(mnist.data)  # Scale to 0-1\n",
    "Y = mnist.target\n",
    "\n",
    "# Shuffle data\n",
    "idx = np.random.choice(np.arange(len(Y)), 1500, replace=False)\n",
    "\n",
    "# Create training data\n",
    "train_inputs = [np.reshape(x, (64, 1)) for x in X[idx]]\n",
    "train_results = [vectorized_result(y) for y in Y[idx]]\n",
    "train_mnist = list(zip(train_inputs, train_results))\n",
    "\n",
    "# Create test data\n",
    "test_inputs = [np.reshape(x, (64, 1)) for x in X[-idx]]\n",
    "test_results = Y[-idx]\n",
    "test_mnist = list(zip(test_inputs, test_results))\n",
    "\n",
    "# Sample\n",
    "test_mnist[0]"
   ]
  },
  {
   "cell_type": "code",
   "execution_count": 34,
   "metadata": {
    "collapsed": true
   },
   "outputs": [],
   "source": [
    "# Create Network\n",
    "net = Network([64, 10, 10])"
   ]
  },
  {
   "cell_type": "code",
   "execution_count": 35,
   "metadata": {
    "collapsed": false
   },
   "outputs": [
    {
     "name": "stdout",
     "output_type": "stream",
     "text": [
      "Epoch 0: 853/1500\n",
      "Epoch 1: 1102/1500\n",
      "Epoch 2: 1228/1500\n",
      "Epoch 3: 1268/1500\n",
      "Epoch 4: 1318/1500\n",
      "Epoch 5: 1328/1500\n",
      "Epoch 6: 1389/1500\n",
      "Epoch 7: 1395/1500\n",
      "Epoch 8: 1404/1500\n",
      "Epoch 9: 1437/1500\n",
      "Epoch 10: 1423/1500\n",
      "Epoch 11: 1440/1500\n",
      "Epoch 12: 1450/1500\n",
      "Epoch 13: 1445/1500\n",
      "Epoch 14: 1448/1500\n",
      "Epoch 15: 1436/1500\n",
      "Epoch 16: 1456/1500\n",
      "Epoch 17: 1454/1500\n",
      "Epoch 18: 1463/1500\n",
      "Epoch 19: 1457/1500\n",
      "Epoch 20: 1467/1500\n",
      "Epoch 21: 1466/1500\n",
      "Epoch 22: 1464/1500\n",
      "Epoch 23: 1463/1500\n",
      "Epoch 24: 1463/1500\n",
      "Epoch 25: 1470/1500\n",
      "Epoch 26: 1469/1500\n",
      "Epoch 27: 1467/1500\n",
      "Epoch 28: 1468/1500\n",
      "Epoch 29: 1462/1500\n"
     ]
    }
   ],
   "source": [
    "# Train\n",
    "net.SGD(training_data=train_mnist, \n",
    "        epochs=30, \n",
    "        mini_batch_size=10,\n",
    "        lr=3.0,\n",
    "        validation_data=test_mnist)"
   ]
  },
  {
   "cell_type": "markdown",
   "metadata": {
    "collapsed": true
   },
   "source": [
    "## Debug (ignore)"
   ]
  },
  {
   "cell_type": "code",
   "execution_count": 20,
   "metadata": {
    "collapsed": false,
    "scrolled": false
   },
   "outputs": [
    {
     "data": {
      "text/plain": [
       "[array([[ 0.05350913, -1.05344892,  0.45460089],\n",
       "        [-1.35734199, -0.66301713,  2.17429394],\n",
       "        [ 0.7522351 , -0.1598437 ,  1.71976458],\n",
       "        [ 0.48050316,  0.81704809,  0.05263472],\n",
       "        [-0.73805574,  1.86858265,  0.43426714]]),\n",
       " array([[  1.61128086e-02,   1.77239774e+00,  -1.17052199e-03,\n",
       "          -3.81185925e-01,   1.25755023e+00],\n",
       "        [ -1.43603403e+00,   2.94471026e-01,  -7.28440577e-01,\n",
       "           3.09595991e-01,   6.89624252e-01]])]"
      ]
     },
     "execution_count": 20,
     "metadata": {},
     "output_type": "execute_result"
    }
   ],
   "source": [
    "sizes = [3, 5, 2]    \n",
    "    \n",
    "test_biases = [np.random.randn(y, 1) for y in sizes[1:]]\n",
    "test_weights = [np.random.randn(y, x) for x, y in zip(sizes[:-1], sizes[1:])]\n",
    "\n",
    "test_weights"
   ]
  },
  {
   "cell_type": "code",
   "execution_count": 23,
   "metadata": {
    "collapsed": false
   },
   "outputs": [
    {
     "name": "stdout",
     "output_type": "stream",
     "text": [
      "(5, 3)\n",
      "(2, 5)\n"
     ]
    }
   ],
   "source": [
    "test_weights = [\n",
    "    np.array([[-0.81267026,  0.17627318, -0.60639905],\n",
    "              [ 0.50974091,  2.34693197,  0.33875867],\n",
    "              [-1.20632438, -1.25457351, -1.17803266],\n",
    "              [ 0.06163412,  0.61925722,  0.87939343],\n",
    "              [-0.41764508, -0.28984466,  0.09663896]]),\n",
    "    np.array([[ 0.37480004,  0.04123139,  1.5200263 , -2.02504715,  0.2665885 ],\n",
    "              [ 1.1946554 ,  0.18426967, -0.16337889, -0.91305046,  0.05401374]])\n",
    "]\n",
    "for x in test_weights:\n",
    "    print(x.shape)"
   ]
  },
  {
   "cell_type": "code",
   "execution_count": 24,
   "metadata": {
    "collapsed": false
   },
   "outputs": [
    {
     "name": "stdout",
     "output_type": "stream",
     "text": [
      "(5, 1)\n",
      "(2, 1)\n"
     ]
    }
   ],
   "source": [
    "test_biases = [\n",
    "    np.array([[-0.28080838],[ 0.2316751 ],[ 0.87261225],[-0.96765989],[-1.868544  ]]),\n",
    "    np.array([[ 2.10775394],[ 0.41855275]])\n",
    "]\n",
    "for x in test_biases:\n",
    "    print(x.shape)"
   ]
  },
  {
   "cell_type": "raw",
   "metadata": {},
   "source": []
  },
  {
   "cell_type": "code",
   "execution_count": 41,
   "metadata": {
    "collapsed": false
   },
   "outputs": [
    {
     "name": "stdout",
     "output_type": "stream",
     "text": [
      "0.5\n",
      "[[-0.81267026  0.17627318 -0.60639905]\n",
      " [ 0.50974091  2.34693197  0.33875867]\n",
      " [-1.20632438 -1.25457351 -1.17803266]\n",
      " [ 0.06163412  0.61925722  0.87939343]\n",
      " [-0.41764508 -0.28984466  0.09663896]]\n"
     ]
    },
    {
     "ename": "NameError",
     "evalue": "name 'stop' is not defined",
     "output_type": "error",
     "traceback": [
      "\u001b[1;31m---------------------------------------------------------------------------\u001b[0m",
      "\u001b[1;31mNameError\u001b[0m                                 Traceback (most recent call last)",
      "\u001b[1;32m<ipython-input-41-1bf45bfe0bd7>\u001b[0m in \u001b[0;36m<module>\u001b[1;34m()\u001b[0m\n\u001b[0;32m     10\u001b[0m     \u001b[1;32mreturn\u001b[0m \u001b[0ma\u001b[0m\u001b[1;33m\u001b[0m\u001b[0m\n\u001b[0;32m     11\u001b[0m \u001b[1;33m\u001b[0m\u001b[0m\n\u001b[1;32m---> 12\u001b[1;33m \u001b[0mfeedforward\u001b[0m\u001b[1;33m(\u001b[0m\u001b[1;36m0.5\u001b[0m\u001b[1;33m)\u001b[0m\u001b[1;33m\u001b[0m\u001b[0m\n\u001b[0m",
      "\u001b[1;32m<ipython-input-41-1bf45bfe0bd7>\u001b[0m in \u001b[0;36mfeedforward\u001b[1;34m(a)\u001b[0m\n\u001b[0;32m      5\u001b[0m         \u001b[0mprint\u001b[0m\u001b[1;33m(\u001b[0m\u001b[0ma\u001b[0m\u001b[1;33m)\u001b[0m\u001b[1;33m\u001b[0m\u001b[0m\n\u001b[0;32m      6\u001b[0m         \u001b[0mprint\u001b[0m\u001b[1;33m(\u001b[0m\u001b[0mw\u001b[0m\u001b[1;33m)\u001b[0m\u001b[1;33m\u001b[0m\u001b[0m\n\u001b[1;32m----> 7\u001b[1;33m         \u001b[0mstop\u001b[0m\u001b[1;33m\u001b[0m\u001b[0m\n\u001b[0m\u001b[0;32m      8\u001b[0m         \u001b[1;31m# Sigmoid custom function\u001b[0m\u001b[1;33m\u001b[0m\u001b[1;33m\u001b[0m\u001b[0m\n\u001b[0;32m      9\u001b[0m         \u001b[0ma\u001b[0m \u001b[1;33m=\u001b[0m \u001b[0msigmoid\u001b[0m\u001b[1;33m(\u001b[0m\u001b[0mnp\u001b[0m\u001b[1;33m.\u001b[0m\u001b[0mdot\u001b[0m\u001b[1;33m(\u001b[0m\u001b[0mw\u001b[0m\u001b[1;33m,\u001b[0m \u001b[0ma\u001b[0m\u001b[1;33m)\u001b[0m \u001b[1;33m+\u001b[0m \u001b[0mb\u001b[0m\u001b[1;33m)\u001b[0m\u001b[1;33m\u001b[0m\u001b[0m\n",
      "\u001b[1;31mNameError\u001b[0m: name 'stop' is not defined"
     ]
    }
   ],
   "source": [
    "import numpy as np\n",
    "def feedforward(a):\n",
    "    \"\"\"Propogate input forward and return output\"\"\"\n",
    "    for b, w in zip(test_biases, test_weights):\n",
    "        print(a)\n",
    "        print(w)\n",
    "        stop\n",
    "        # Sigmoid custom function\n",
    "        a = sigmoid(np.dot(w, a) + b)\n",
    "    return a\n",
    "\n",
    "feedforward(0.5)"
   ]
  },
  {
   "cell_type": "code",
   "execution_count": 39,
   "metadata": {
    "collapsed": false
   },
   "outputs": [
    {
     "data": {
      "text/plain": [
       "[(array([[-0.28080838],\n",
       "         [ 0.2316751 ],\n",
       "         [ 0.87261225],\n",
       "         [-0.96765989],\n",
       "         [-1.868544  ]]), array([[-0.81267026,  0.17627318, -0.60639905],\n",
       "         [ 0.50974091,  2.34693197,  0.33875867],\n",
       "         [-1.20632438, -1.25457351, -1.17803266],\n",
       "         [ 0.06163412,  0.61925722,  0.87939343],\n",
       "         [-0.41764508, -0.28984466,  0.09663896]])), (array([[ 2.10775394],\n",
       "         [ 0.41855275]]),\n",
       "  array([[ 0.37480004,  0.04123139,  1.5200263 , -2.02504715,  0.2665885 ],\n",
       "         [ 1.1946554 ,  0.18426967, -0.16337889, -0.91305046,  0.05401374]]))]"
      ]
     },
     "execution_count": 39,
     "metadata": {},
     "output_type": "execute_result"
    }
   ],
   "source": [
    "list(zip(test_biases, test_weights))"
   ]
  }
 ],
 "metadata": {
  "kernelspec": {
   "display_name": "Python [Root]",
   "language": "python",
   "name": "Python [Root]"
  },
  "language_info": {
   "codemirror_mode": {
    "name": "ipython",
    "version": 3
   },
   "file_extension": ".py",
   "mimetype": "text/x-python",
   "name": "python",
   "nbconvert_exporter": "python",
   "pygments_lexer": "ipython3",
   "version": "3.5.2"
  }
 },
 "nbformat": 4,
 "nbformat_minor": 0
}
